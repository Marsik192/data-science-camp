{
 "cells": [
  {
   "cell_type": "code",
   "execution_count": 18,
   "metadata": {},
   "outputs": [],
   "source": [
    "import matplotlib.pyplot as plt\n",
    "import pandas as pd \n",
    "import numpy as np\n",
    "from sklearn import svm\n",
    "from sklearn.datasets import load_iris\n",
    "from sklearn.inspection import DecisionBoundaryDisplay\n",
    "from sklearn.model_selection import train_test_split\n",
    "\n",
    "iris = load_iris()\n",
    "X = iris.data[:, :2]\n",
    "y = iris.target\n",
    "\n",
    "X_train, X_test, y_train, y_test = train_test_split(X,y, test_size = 0.33, random_state=2022)\n",
    "\n"
   ]
  },
  {
   "cell_type": "code",
   "execution_count": 22,
   "metadata": {},
   "outputs": [
    {
     "name": "stdout",
     "output_type": "stream",
     "text": [
      "train accuracy= 78.667%\n",
      "test accuracy= 80.000%\n"
     ]
    }
   ],
   "source": [
    "svm_linear = svm.SVC(kernel=\"linear\", C=10,gamma=0.001).fit(X_train, y_train)\n",
    "print(\"train accuracy= {:.3%}\".format(svm_linear.score (X_train, y_train)))\n",
    "print(\"test accuracy= {:.3%}\".format(svm_linear.score (X_test, y_test)))"
   ]
  },
  {
   "cell_type": "code",
   "execution_count": 25,
   "metadata": {},
   "outputs": [
    {
     "name": "stdout",
     "output_type": "stream",
     "text": [
      "train accuracy= 69.333%\n",
      "test accuracy= 64.000%\n"
     ]
    }
   ],
   "source": [
    "svm_linear = svm.SVC(kernel=\"rbf\", C=0.1,gamma=5).fit(X_train, y_train)\n",
    "print(\"train accuracy= {:.3%}\".format(svm_linear.score (X_train, y_train)))\n",
    "print(\"test accuracy= {:.3%}\".format(svm_linear.score (X_test, y_test)))"
   ]
  },
  {
   "cell_type": "code",
   "execution_count": 26,
   "metadata": {},
   "outputs": [
    {
     "name": "stdout",
     "output_type": "stream",
     "text": [
      "train accuracy= 77.333%\n",
      "test accuracy= 84.000%\n"
     ]
    }
   ],
   "source": [
    "svm_linear = svm.SVC(kernel=\"poly\", C=1.0,gamma=3).fit(X_train, y_train)\n",
    "print(\"train accuracy= {:.3%}\".format(svm_linear.score (X_train, y_train)))\n",
    "print(\"test accuracy= {:.3%}\".format(svm_linear.score (X_test, y_test)))"
   ]
  }
 ],
 "metadata": {
  "kernelspec": {
   "display_name": "Python 3",
   "language": "python",
   "name": "python3"
  },
  "language_info": {
   "codemirror_mode": {
    "name": "ipython",
    "version": 3
   },
   "file_extension": ".py",
   "mimetype": "text/x-python",
   "name": "python",
   "nbconvert_exporter": "python",
   "pygments_lexer": "ipython3",
   "version": "3.10.9"
  },
  "orig_nbformat": 4,
  "vscode": {
   "interpreter": {
    "hash": "9f17e58a4649de71ddaa6ebe913363adc4ba35f246eec8b95e969dd0a5f14125"
   }
  }
 },
 "nbformat": 4,
 "nbformat_minor": 2
}
